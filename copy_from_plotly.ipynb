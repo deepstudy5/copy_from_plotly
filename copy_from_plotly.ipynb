{
 "cells": [
  {
   "cell_type": "code",
   "execution_count": null,
   "id": "bd32579d",
   "metadata": {},
   "outputs": [],
   "source": [
    "! pip install yfinance"
   ]
  },
  {
   "cell_type": "code",
   "execution_count": null,
   "id": "11dad0bf",
   "metadata": {},
   "outputs": [],
   "source": [
    "! pip install plotly==5.22.0"
   ]
  },
  {
   "cell_type": "code",
   "execution_count": null,
   "id": "4d95a7bb",
   "metadata": {},
   "outputs": [],
   "source": [
    "from tqdm.auto import tqdm\n",
    "import yfinance as yf\n",
    "import plotly.express as px\n",
    "import plotly.graph_objects as go\n",
    "import plotly.offline as pyo\n",
    "from plotly.subplots import make_subplots\n",
    "\n",
    "pyo.init_notebook_mode()"
   ]
  },
  {
   "cell_type": "code",
   "execution_count": null,
   "id": "f7227e0e",
   "metadata": {},
   "outputs": [],
   "source": [
    "# Configurable constants\n",
    "DATE_FROM = '2024-01-01'\n",
    "DATE_TO = '2024-05-29'\n",
    "SYMBOLS = ['AAPL', 'GOOG', 'MSFT']"
   ]
  },
  {
   "cell_type": "code",
   "execution_count": null,
   "id": "ade8078e",
   "metadata": {
    "scrolled": true
   },
   "outputs": [],
   "source": [
    "symbols_dfs = dict()\n",
    "for s in tqdm(SYMBOLS):\n",
    "    # Get the data for the stock AAPL\n",
    "    df = yf.download(s, DATE_FROM, DATE_TO)\n",
    "    symbols_dfs[s] = df"
   ]
  },
  {
   "cell_type": "code",
   "execution_count": null,
   "id": "780f4cdd",
   "metadata": {},
   "outputs": [],
   "source": [
    "symbols_dfs['AAPL'][:2]"
   ]
  },
  {
   "cell_type": "code",
   "execution_count": null,
   "id": "5250cbb0",
   "metadata": {},
   "outputs": [],
   "source": [
    "for s, df in symbols_dfs.items():\n",
    "    df['details'] = 'High=' + df['High'].round(2).astype(str) \\\n",
    "        + ', Low=' + df['Low'].round(2).astype(str) \\\n",
    "        + ', Volume=' + df['Volume'].astype(str)"
   ]
  },
  {
   "cell_type": "code",
   "execution_count": null,
   "id": "6550b7f6",
   "metadata": {},
   "outputs": [],
   "source": [
    "subplots = make_subplots()\n",
    "fig = go.FigureWidget(subplots)\n",
    "title = f'Stock prices'\n",
    "fig.layout.title.update(text=title, x=0.5)\n",
    "\n",
    "for s, df in symbols_dfs.items():\n",
    "    fig.add_scatter(x=df.index,\n",
    "                    y=df['Open'],\n",
    "                    name=s,\n",
    "                    mode='lines+markers',\n",
    "                    text=df['details'])\n",
    "    \n",
    "    \n",
    "# Display information about the clicked point\n",
    "def on_trace_click(trace, points, selector):\n",
    "    for p_idx, p_x, p_y in zip(points.point_inds, points.xs, points.ys):\n",
    "        details = None if p_idx >= len(trace.text) else trace.text[p_idx]\n",
    "        print(f'Clicked on: {points.trace_name}, x={p_x}, y={p_y}, {details}')\n",
    "for d in fig.data:\n",
    "    d.on_click(on_trace_click)"
   ]
  },
  {
   "cell_type": "code",
   "execution_count": null,
   "id": "b20487d1",
   "metadata": {},
   "outputs": [],
   "source": [
    "display(fig)"
   ]
  },
  {
   "cell_type": "code",
   "execution_count": null,
   "id": "9f6bc4fd",
   "metadata": {},
   "outputs": [],
   "source": []
  },
  {
   "cell_type": "code",
   "execution_count": null,
   "id": "4cd4b221",
   "metadata": {},
   "outputs": [],
   "source": []
  }
 ],
 "metadata": {
  "kernelspec": {
   "display_name": "Python 3 (ipykernel)",
   "language": "python",
   "name": "python3"
  },
  "language_info": {
   "codemirror_mode": {
    "name": "ipython",
    "version": 3
   },
   "file_extension": ".py",
   "mimetype": "text/x-python",
   "name": "python",
   "nbconvert_exporter": "python",
   "pygments_lexer": "ipython3",
   "version": "3.9.6"
  }
 },
 "nbformat": 4,
 "nbformat_minor": 5
}
